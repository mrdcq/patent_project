{
 "cells": [
  {
   "cell_type": "code",
   "execution_count": 21,
   "metadata": {},
   "outputs": [],
   "source": [
    "\n",
    "from pandarallel import pandarallel  # Import pandarallel\n",
    "from uploading_data import *\n"
   ]
  },
  {
   "cell_type": "code",
   "execution_count": 22,
   "metadata": {},
   "outputs": [
    {
     "name": "stdout",
     "output_type": "stream",
     "text": [
      "INFO: Pandarallel will run on 4 workers.\n",
      "INFO: Pandarallel will use standard multiprocessing data transfer (pipe) to transfer data between the main process and workers.\n"
     ]
    }
   ],
   "source": [
    "pandarallel.initialize(progress_bar=True)"
   ]
  },
  {
   "cell_type": "code",
   "execution_count": 23,
   "metadata": {},
   "outputs": [
    {
     "data": {
      "text/html": [
       "<div>\n",
       "<style scoped>\n",
       "    .dataframe tbody tr th:only-of-type {\n",
       "        vertical-align: middle;\n",
       "    }\n",
       "\n",
       "    .dataframe tbody tr th {\n",
       "        vertical-align: top;\n",
       "    }\n",
       "\n",
       "    .dataframe thead th {\n",
       "        text-align: right;\n",
       "    }\n",
       "</style>\n",
       "<table border=\"1\" class=\"dataframe\">\n",
       "  <thead>\n",
       "    <tr style=\"text-align: right;\">\n",
       "      <th></th>\n",
       "      <th>patent_id</th>\n",
       "      <th>date</th>\n",
       "      <th>corpus</th>\n",
       "      <th>date_method</th>\n",
       "    </tr>\n",
       "  </thead>\n",
       "  <tbody>\n",
       "    <tr>\n",
       "      <th>0</th>\n",
       "      <td>802549</td>\n",
       "      <td>1905-10-24</td>\n",
       "      <td>To\\nUNITED STATES\\nCHARLES S$. BATDORF, OF BRO...</td>\n",
       "      <td>CSV</td>\n",
       "    </tr>\n",
       "    <tr>\n",
       "      <th>1</th>\n",
       "      <td>1247697</td>\n",
       "      <td>1917-11-27</td>\n",
       "      <td>\\nUNITED STATES PATENT OFFICE.\\nTHOMAS J. MALO...</td>\n",
       "      <td>CSV</td>\n",
       "    </tr>\n",
       "    <tr>\n",
       "      <th>2</th>\n",
       "      <td>601317</td>\n",
       "      <td>1898-03-29</td>\n",
       "      <td>\\nUNITED STATES\\nPATENT OFFICE.\\nJOHN FIELDEN,...</td>\n",
       "      <td>CSV</td>\n",
       "    </tr>\n",
       "    <tr>\n",
       "      <th>3</th>\n",
       "      <td>603500</td>\n",
       "      <td>1898-05-03</td>\n",
       "      <td>To\\nUNITED STATES\\nPATENT OFFICE.\\nNATHAN EDSO...</td>\n",
       "      <td>CSV</td>\n",
       "    </tr>\n",
       "    <tr>\n",
       "      <th>4</th>\n",
       "      <td>1256956</td>\n",
       "      <td>1918-02-19</td>\n",
       "      <td>\\nUNITED STATES PATENT OFFICE\\nMABELLE E. TURN...</td>\n",
       "      <td>CSV</td>\n",
       "    </tr>\n",
       "    <tr>\n",
       "      <th>...</th>\n",
       "      <td>...</td>\n",
       "      <td>...</td>\n",
       "      <td>...</td>\n",
       "      <td>...</td>\n",
       "    </tr>\n",
       "    <tr>\n",
       "      <th>3818</th>\n",
       "      <td>646051</td>\n",
       "      <td>1900-03-27</td>\n",
       "      <td>UNITED STATES\\nPATENT OFFICE.\\nWILLIAM C. HOMA...</td>\n",
       "      <td>CSV</td>\n",
       "    </tr>\n",
       "    <tr>\n",
       "      <th>3819</th>\n",
       "      <td>1333669</td>\n",
       "      <td>1920-03-16</td>\n",
       "      <td>- citizen of the Republic’ of France; and rest...</td>\n",
       "      <td>CSV</td>\n",
       "    </tr>\n",
       "    <tr>\n",
       "      <th>3820</th>\n",
       "      <td>600010</td>\n",
       "      <td>1898-03-01</td>\n",
       "      <td>To\\nUNITED STATES\\nPATENT OFFICE.\\nCAROLINE E....</td>\n",
       "      <td>CSV</td>\n",
       "    </tr>\n",
       "    <tr>\n",
       "      <th>3821</th>\n",
       "      <td>904135</td>\n",
       "      <td>1908-11-17</td>\n",
       "      <td>a\\nHEINRICH G, A. KLAPPROTH, OF HANOVER, GERMA...</td>\n",
       "      <td>CSV</td>\n",
       "    </tr>\n",
       "    <tr>\n",
       "      <th>3822</th>\n",
       "      <td>944511</td>\n",
       "      <td>1909-12-28</td>\n",
       "      <td>Kt)\\nERNST OTTO SCHLICK, OF HAMBURG, GERMANY, ...</td>\n",
       "      <td>CSV</td>\n",
       "    </tr>\n",
       "  </tbody>\n",
       "</table>\n",
       "<p>3823 rows × 4 columns</p>\n",
       "</div>"
      ],
      "text/plain": [
       "     patent_id       date                                             corpus   \n",
       "0       802549 1905-10-24  To\\nUNITED STATES\\nCHARLES S$. BATDORF, OF BRO...  \\\n",
       "1      1247697 1917-11-27  \\nUNITED STATES PATENT OFFICE.\\nTHOMAS J. MALO...   \n",
       "2       601317 1898-03-29  \\nUNITED STATES\\nPATENT OFFICE.\\nJOHN FIELDEN,...   \n",
       "3       603500 1898-05-03  To\\nUNITED STATES\\nPATENT OFFICE.\\nNATHAN EDSO...   \n",
       "4      1256956 1918-02-19  \\nUNITED STATES PATENT OFFICE\\nMABELLE E. TURN...   \n",
       "...        ...        ...                                                ...   \n",
       "3818    646051 1900-03-27  UNITED STATES\\nPATENT OFFICE.\\nWILLIAM C. HOMA...   \n",
       "3819   1333669 1920-03-16  - citizen of the Republic’ of France; and rest...   \n",
       "3820    600010 1898-03-01  To\\nUNITED STATES\\nPATENT OFFICE.\\nCAROLINE E....   \n",
       "3821    904135 1908-11-17  a\\nHEINRICH G, A. KLAPPROTH, OF HANOVER, GERMA...   \n",
       "3822    944511 1909-12-28  Kt)\\nERNST OTTO SCHLICK, OF HAMBURG, GERMANY, ...   \n",
       "\n",
       "     date_method  \n",
       "0            CSV  \n",
       "1            CSV  \n",
       "2            CSV  \n",
       "3            CSV  \n",
       "4            CSV  \n",
       "...          ...  \n",
       "3818         CSV  \n",
       "3819         CSV  \n",
       "3820         CSV  \n",
       "3821         CSV  \n",
       "3822         CSV  \n",
       "\n",
       "[3823 rows x 4 columns]"
      ]
     },
     "execution_count": 23,
     "metadata": {},
     "output_type": "execute_result"
    }
   ],
   "source": [
    "directory_small = \"data/small_df/small\"\n",
    "directory_avg = \"data/average_df/average\"\n",
    "directory_total = \"data/total_df/sample\"\n",
    "\n",
    "df = upload_patents(directory_avg)\n",
    "df"
   ]
  },
  {
   "cell_type": "code",
   "execution_count": 24,
   "metadata": {},
   "outputs": [],
   "source": [
    "csv_small = \"data/small_df/patents_df_small.csv\"\n",
    "csv_avg = \"data/average_df/patents_df_avg.csv\"\n",
    "csv_total = \"data/total_df/patents_df_tot.csv\"\n",
    "\n",
    "df.to_csv(csv_avg, index=False)"
   ]
  }
 ],
 "metadata": {
  "kernelspec": {
   "display_name": "patent_project",
   "language": "python",
   "name": "python3"
  },
  "language_info": {
   "codemirror_mode": {
    "name": "ipython",
    "version": 3
   },
   "file_extension": ".py",
   "mimetype": "text/x-python",
   "name": "python",
   "nbconvert_exporter": "python",
   "pygments_lexer": "ipython3",
   "version": "3.9.21"
  }
 },
 "nbformat": 4,
 "nbformat_minor": 2
}
